{
 "cells": [
  {
   "cell_type": "code",
   "execution_count": 0,
   "metadata": {
    "application/vnd.databricks.v1+cell": {
     "cellMetadata": {
      "byteLimit": 2048000,
      "rowLimit": 10000
     },
     "inputWidgets": {},
     "nuid": "c4314f72-952a-4072-b4f3-48700492555e",
     "showTitle": false,
     "title": ""
    }
   },
   "outputs": [],
   "source": [
    "# https://shilsdemostorage.blob.core.windows.net/nycyellowtaxidata-raw/nycyellowtaxidata-raw/2022/part-00000-tid-5193234821261796341-6165aa51-56ca-4363-a07d-c0bd865f916c-14-1-c000.snappy.parquet\n",
    "\n",
    "dbutils.fs.ls(\"/mnt/nycyellowtaxidata-raw/2022\")"
   ]
  },
  {
   "cell_type": "code",
   "execution_count": 0,
   "metadata": {
    "application/vnd.databricks.v1+cell": {
     "cellMetadata": {
      "byteLimit": 2048000,
      "rowLimit": 10000
     },
     "inputWidgets": {},
     "nuid": "28a87bca-9822-4d00-8582-4ef707a43d0e",
     "showTitle": false,
     "title": ""
    }
   },
   "outputs": [
    {
     "output_type": "stream",
     "name": "stdout",
     "output_type": "stream",
     "text": [
      "root\n |-- VendorID: long (nullable = true)\n |-- tpep_pickup_datetime: timestamp_ntz (nullable = true)\n |-- tpep_dropoff_datetime: timestamp_ntz (nullable = true)\n |-- passenger_count: double (nullable = true)\n |-- trip_distance: double (nullable = true)\n |-- RatecodeID: double (nullable = true)\n |-- store_and_fwd_flag: string (nullable = true)\n |-- PULocationID: long (nullable = true)\n |-- DOLocationID: long (nullable = true)\n |-- payment_type: long (nullable = true)\n |-- fare_amount: double (nullable = true)\n |-- extra: double (nullable = true)\n |-- mta_tax: double (nullable = true)\n |-- tip_amount: double (nullable = true)\n |-- tolls_amount: double (nullable = true)\n |-- improvement_surcharge: double (nullable = true)\n |-- total_amount: double (nullable = true)\n |-- congestion_surcharge: double (nullable = true)\n |-- airport_fee: double (nullable = true)\n\n+--------+--------------------+---------------------+---------------+-------------+----------+------------------+------------+------------+------------+-----------+-----+-------+----------+------------+---------------------+------------+--------------------+-----------+\n|VendorID|tpep_pickup_datetime|tpep_dropoff_datetime|passenger_count|trip_distance|RatecodeID|store_and_fwd_flag|PULocationID|DOLocationID|payment_type|fare_amount|extra|mta_tax|tip_amount|tolls_amount|improvement_surcharge|total_amount|congestion_surcharge|airport_fee|\n+--------+--------------------+---------------------+---------------+-------------+----------+------------------+------------+------------+------------+-----------+-----+-------+----------+------------+---------------------+------------+--------------------+-----------+\n|       1| 2022-10-01 00:03:41|  2022-10-01 00:18:39|            1.0|          1.7|       1.0|                 N|         249|         107|           1|        9.5|  3.0|    0.5|      2.65|         0.0|                  0.3|       15.95|                 2.5|        0.0|\n|       2| 2022-10-01 00:14:30|  2022-10-01 00:19:48|            2.0|         0.72|       1.0|                 N|         151|         238|           2|        5.5|  0.5|    0.5|       0.0|         0.0|                  0.3|         9.3|                 2.5|        0.0|\n|       2| 2022-10-01 00:27:13|  2022-10-01 00:37:41|            1.0|         1.74|       1.0|                 N|         238|         166|           1|        9.0|  0.5|    0.5|      2.06|         0.0|                  0.3|       12.36|                 0.0|        0.0|\n|       1| 2022-10-01 00:32:53|  2022-10-01 00:38:55|            0.0|          1.3|       1.0|                 N|         142|         239|           1|        6.5|  3.0|    0.5|      2.05|         0.0|                  0.3|       12.35|                 2.5|        0.0|\n|       1| 2022-10-01 00:44:55|  2022-10-01 00:50:21|            0.0|          1.0|       1.0|                 N|         238|         166|           1|        6.0|  0.5|    0.5|       1.8|         0.0|                  0.3|         9.1|                 0.0|        0.0|\n|       1| 2022-10-01 00:22:52|  2022-10-01 00:52:14|            1.0|          6.8|       1.0|                 Y|         186|          41|           2|       25.5|  3.0|    0.5|       0.0|         0.0|                  0.3|        29.3|                 2.5|        0.0|\n|       2| 2022-10-01 00:33:19|  2022-10-01 00:44:51|            3.0|         1.88|       1.0|                 N|         162|         145|           2|       10.5|  0.5|    0.5|       0.0|         0.0|                  0.3|        14.3|                 2.5|        0.0|\n|       1| 2022-10-01 00:02:42|  2022-10-01 00:50:01|            1.0|         12.2|       1.0|                 N|         100|          22|           1|       41.0|  3.0|    0.5|       3.0|         0.0|                  0.3|        47.8|                 2.5|        0.0|\n|       2| 2022-10-01 00:06:35|  2022-10-01 00:24:38|            1.0|         7.79|       1.0|                 N|         138|         112|           1|       23.5|  0.5|    0.5|      4.96|         0.0|                  0.3|       31.01|                 0.0|       1.25|\n|       2| 2022-10-01 00:29:25|  2022-10-01 00:43:15|            1.0|         4.72|       1.0|                 N|         145|          75|           1|       14.5|  0.5|    0.5|       1.5|         0.0|                  0.3|        19.8|                 2.5|        0.0|\n+--------+--------------------+---------------------+---------------+-------------+----------+------------------+------------+------------+------------+-----------+-----+-------+----------+------------+---------------------+------------+--------------------+-----------+\nonly showing top 10 rows\n\n"
     ]
    }
   ],
   "source": [
    "\n",
    "from pyspark.sql import SparkSession\n",
    "\n",
    "# Create a SparkSession\n",
    "spark = SparkSession.builder \\\n",
    "    .appName(\"nyc_taxi_trip_data_clean\") \\\n",
    "    .getOrCreate()\n",
    "\n",
    "spark.conf.set(\"fs.azure.sas.nycyellowtaxidata-raw.shilsdemostorage.blob.core.windows.net\", \"sv=2022-11-02&ss=bfqt&srt=sco&sp=rwdlacupiytfx&se=2024-06-15T07:52:01Z&st=2024-06-14T23:52:01Z&spr=https&sig=W7cBUc1L3%2FC9XCs%2BEug%2FTontPX%2F3hhQiFJpjmhfEe2o%3D\")\n",
    "\n",
    "# Define the location of your Parquet files\n",
    "container_name = \"nycyellowtaxidata-raw\"\n",
    "storage_account_name = \"shilsdemostorage\"\n",
    "folder_path = \"nycyellowtaxidata-raw/2022\"\n",
    "\n",
    "# Build the full path to your files\n",
    "full_path = f\"wasbs://{container_name}@{storage_account_name}.blob.core.windows.net/{folder_path}/*.parquet\"\n",
    "\n",
    "# List and print all the files in the Azure Blob conatiner\n",
    "# files = dbutils.fs.ls(full_path.replace(\"*.parquet\", \"\"))\n",
    "# print(\"Files in the conatiner nycyellowtaxidata-raw: \")\n",
    "# for file in files:\n",
    "#     print(file.path)\n",
    "\n",
    "# Read the Parquet files into a DataFrame\n",
    "df = spark.read.parquet(full_path)\n",
    "\n",
    "# Show the DataFrame schema and some rows\n",
    "df.printSchema()\n",
    "df.show(n=10)\n"
   ]
  },
  {
   "cell_type": "code",
   "execution_count": 0,
   "metadata": {
    "application/vnd.databricks.v1+cell": {
     "cellMetadata": {
      "byteLimit": 2048000,
      "rowLimit": 10000
     },
     "inputWidgets": {},
     "nuid": "a57cc982-4157-41f6-8d10-aa46543d9115",
     "showTitle": false,
     "title": ""
    }
   },
   "outputs": [],
   "source": [
    "df.printSchema()"
   ]
  },
  {
   "cell_type": "code",
   "execution_count": 0,
   "metadata": {
    "application/vnd.databricks.v1+cell": {
     "cellMetadata": {
      "byteLimit": 2048000,
      "rowLimit": 10000
     },
     "inputWidgets": {},
     "nuid": "ab95751f-a9bf-4216-8c80-4a8db8f21204",
     "showTitle": false,
     "title": ""
    }
   },
   "outputs": [],
   "source": [
    "# =========================Step 2: Data Cleaning================================\n",
    "from pyspark.sql.functions import col\n",
    "\n",
    "# Filter rows with positive passenger_count and positive trip_distance\n",
    "dff = df.filter((col(\"passenger_count\") > 0) & (col(\"trip_distance\") > 0))\n",
    "\n",
    "# negative_tip_df = dff.filter(col(\"tip_amount\") < 0)\n",
    "# print(\"Rows with negative tip_amount:\")\n",
    "# negative_tip_df.show()\n",
    "    \n",
    "# # Count rows with negative tip_amount\n",
    "# negative_tip_count = negative_tip_df.count()\n",
    "# print(f\"Number of rows with negative tip_amount: {negative_tip_count}\")\n",
    "    \n",
    "# Remove rows with negative tip_amount. For the “tip amount”, a value of 0 is possible, indicating that the passenger did not leave a tip\n",
    "cleaned_df = dff.filter(col(\"tip_amount\") >= 0)\n",
    "cleaned_df.show()\n",
    "\n",
    "# Drop duplicate rows based on all columns\n",
    "deduplicated_df = cleaned_df.dropDuplicates()\n",
    "    \n",
    "# Show the cleaned and deduplicated DataFrame\n",
    "print(\"Cleaned and deduplicated DataFrame:\")\n",
    "deduplicated_df.show()\n",
    "    \n",
    "# Optionally, count the number of rows in the deduplicated DataFrame\n",
    "deduplicated_count = deduplicated_df.count()\n",
    "print(f\"Number of rows in the cleaned and deduplicated DataFrame: {deduplicated_count}\")\n"
   ]
  },
  {
   "cell_type": "code",
   "execution_count": 0,
   "metadata": {
    "application/vnd.databricks.v1+cell": {
     "cellMetadata": {
      "byteLimit": 2048000,
      "rowLimit": 10000
     },
     "inputWidgets": {},
     "nuid": "aa23c49a-abc7-4308-a60c-376d2d8fd764",
     "showTitle": false,
     "title": ""
    }
   },
   "outputs": [],
   "source": [
    "from pyspark.sql.functions import col, unix_timestamp, expr\n",
    "\n",
    "# Calculate the trip duration in seconds\n",
    "df_calc = deduplicated_df.withColumn(\n",
    "    \"trip_duration_seconds\",\n",
    "    unix_timestamp(col(\"tpep_dropoff_datetime\")) - unix_timestamp(col(\"tpep_pickup_datetime\"))\n",
    ")\n",
    "\n",
    "# Optionally, calculate the trip duration in minutes\n",
    "df_calc = df_calc.withColumn(\n",
    "    \"trip_duration_minutes\",\n",
    "    col(\"trip_duration_seconds\") / 60\n",
    ")\n",
    "# Show the DataFrame with the trip_duration column\n",
    "print(\"DataFrame with trip_duration (in seconds and minutes):\")\n",
    "df_calc.show()"
   ]
  },
  {
   "cell_type": "code",
   "execution_count": 0,
   "metadata": {
    "application/vnd.databricks.v1+cell": {
     "cellMetadata": {
      "byteLimit": 2048000,
      "rowLimit": 10000
     },
     "inputWidgets": {},
     "nuid": "62207d42-952e-498d-ba79-6eb549220767",
     "showTitle": false,
     "title": ""
    }
   },
   "outputs": [
    {
     "output_type": "execute_result",
     "data": {
      "text/plain": [
       "37036192"
      ]
     },
     "execution_count": 85,
     "metadata": {},
     "output_type": "execute_result"
    }
   ],
   "source": [
    "# This is to filter the trip_duration_seconds column that has only positive trip duration. Negative values (668 rows) are filtered.\n",
    "df_calc = df_calc.filter(col(\"trip_duration_seconds\")> 0)\n",
    "df_calc.count()"
   ]
  },
  {
   "cell_type": "code",
   "execution_count": 0,
   "metadata": {
    "application/vnd.databricks.v1+cell": {
     "cellMetadata": {},
     "inputWidgets": {},
     "nuid": "b27556d2-d7d2-4f69-b5a7-d21d518e8137",
     "showTitle": false,
     "title": ""
    }
   },
   "outputs": [],
   "source": [
    "# Build the full path to your files\n",
    "full_path = f\"wasbs://{container_name}@{storage_account_name}.blob.core.windows.net/{folder_path}/*.parquet\"\n",
    "\n",
    "spark.conf.set(\"fs.azure.sas.nycyellowtaxidata-raw.shilsdemostorage.blob.core.windows.net\", \"sv=2022-11-02&ss=bfqt&srt=sco&sp=rwdlacupiytfx&se=2024-06-15T07:52:01Z&st=2024-06-14T23:52:01Z&spr=https&sig=W7cBUc1L3%2FC9XCs%2BEug%2FTontPX%2F3hhQiFJpjmhfEe2o%3D\")"
   ]
  },
  {
   "cell_type": "code",
   "execution_count": 0,
   "metadata": {
    "application/vnd.databricks.v1+cell": {
     "cellMetadata": {
      "byteLimit": 2048000,
      "rowLimit": 10000
     },
     "inputWidgets": {},
     "nuid": "0ea3a72f-d6a1-48bb-a064-cd3588b4801a",
     "showTitle": false,
     "title": ""
    }
   },
   "outputs": [
    {
     "output_type": "stream",
     "name": "stdout",
     "output_type": "stream",
     "text": [
      "root\n |-- VendorID: long (nullable = true)\n |-- tpep_pickup_datetime: timestamp_ntz (nullable = true)\n |-- tpep_dropoff_datetime: timestamp_ntz (nullable = true)\n |-- passenger_count: double (nullable = true)\n |-- trip_distance: double (nullable = true)\n |-- RatecodeID: double (nullable = true)\n |-- store_and_fwd_flag: string (nullable = true)\n |-- PULocationID: long (nullable = true)\n |-- DOLocationID: long (nullable = true)\n |-- payment_type: long (nullable = true)\n |-- fare_amount: double (nullable = true)\n |-- extra: double (nullable = true)\n |-- mta_tax: double (nullable = true)\n |-- tip_amount: double (nullable = true)\n |-- tolls_amount: double (nullable = true)\n |-- improvement_surcharge: double (nullable = true)\n |-- total_amount: double (nullable = true)\n |-- congestion_surcharge: double (nullable = true)\n |-- airport_fee: double (nullable = true)\n |-- trip_duration_seconds: long (nullable = true)\n |-- trip_duration_minutes: double (nullable = true)\n\n+--------+--------------------+---------------------+---------------+-------------+----------+------------------+------------+------------+------------+-----------+-----+-------+----------+------------+---------------------+------------+--------------------+-----------+---------------------+---------------------+\n|VendorID|tpep_pickup_datetime|tpep_dropoff_datetime|passenger_count|trip_distance|RatecodeID|store_and_fwd_flag|PULocationID|DOLocationID|payment_type|fare_amount|extra|mta_tax|tip_amount|tolls_amount|improvement_surcharge|total_amount|congestion_surcharge|airport_fee|trip_duration_seconds|trip_duration_minutes|\n+--------+--------------------+---------------------+---------------+-------------+----------+------------------+------------+------------+------------+-----------+-----+-------+----------+------------+---------------------+------------+--------------------+-----------+---------------------+---------------------+\n|       2| 2022-10-01 00:32:32|  2022-10-01 01:02:09|            1.0|         16.4|       1.0|                 N|         132|         255|           1|       46.0|  0.5|    0.5|      9.46|         0.0|                  0.3|       58.01|                 0.0|       1.25|                 1777|   29.616666666666667|\n|       2| 2022-10-01 00:00:53|  2022-10-01 00:04:16|            2.0|         1.13|       1.0|                 N|         263|         237|           1|        5.5|  0.5|    0.5|      1.86|         0.0|                  0.3|       11.16|                 2.5|        0.0|                  203|   3.3833333333333333|\n|       2| 2022-10-01 00:47:26|  2022-10-01 00:54:11|            4.0|         0.92|       1.0|                 N|         211|         114|           1|        6.0|  0.5|    0.5|      1.96|         0.0|                  0.3|       11.76|                 2.5|        0.0|                  405|                 6.75|\n|       2| 2022-10-01 00:15:58|  2022-10-01 00:32:14|            1.0|         4.52|       1.0|                 N|         161|         166|           1|       15.5|  0.5|    0.5|       2.0|         0.0|                  0.3|        21.3|                 2.5|        0.0|                  976|   16.266666666666666|\n|       2| 2022-10-01 00:53:50|  2022-10-01 01:09:45|            1.0|         3.02|       1.0|                 N|         144|         246|           1|       13.0|  0.5|    0.5|      3.36|         0.0|                  0.3|       20.16|                 2.5|        0.0|                  955|   15.916666666666666|\n|       2| 2022-10-01 00:21:50|  2022-10-01 00:26:05|            1.0|         0.87|       1.0|                 N|         234|         100|           1|        5.0|  0.5|    0.5|       2.2|         0.0|                  0.3|        11.0|                 2.5|        0.0|                  255|                 4.25|\n|       2| 2022-10-01 00:23:36|  2022-10-01 00:53:10|            6.0|         8.12|       1.0|                 N|         249|         228|           2|       28.0|  0.5|    0.5|       0.0|         0.0|                  0.3|        31.8|                 2.5|        0.0|                 1774|   29.566666666666666|\n|       1| 2022-10-01 00:09:19|  2022-10-01 00:17:48|            1.0|          1.0|       1.0|                 N|         100|         170|           1|        7.0|  3.0|    0.5|      2.15|         0.0|                  0.3|       12.95|                 2.5|        0.0|                  509|    8.483333333333333|\n|       1| 2022-10-01 00:30:44|  2022-10-01 00:42:38|            1.0|          2.0|       1.0|                 N|         162|         140|           1|       10.0|  3.0|    0.5|       1.0|         0.0|                  0.3|        14.8|                 2.5|        0.0|                  714|                 11.9|\n|       2| 2022-10-01 00:54:44|  2022-10-01 01:10:25|            5.0|         3.75|       1.0|                 N|         100|         238|           1|       14.0|  0.5|    0.5|      3.56|         0.0|                  0.3|       21.36|                 2.5|        0.0|                  941|   15.683333333333334|\n|       1| 2022-10-01 00:48:44|  2022-10-01 01:05:54|            1.0|          3.8|       1.0|                 Y|         137|          66|           1|       15.0|  3.0|    0.5|      3.75|         0.0|                  0.3|       22.55|                 2.5|        0.0|                 1030|   17.166666666666668|\n|       2| 2022-10-01 00:56:15|  2022-10-01 01:01:32|            1.0|         1.18|       1.0|                 N|         141|         263|           2|        6.0|  0.5|    0.5|       0.0|         0.0|                  0.3|         9.8|                 2.5|        0.0|                  317|    5.283333333333333|\n|       1| 2022-10-01 00:29:48|  2022-10-01 00:35:33|            1.0|          1.2|       1.0|                 N|          48|         143|           1|        6.5|  3.0|    0.5|      2.06|         0.0|                  0.3|       12.36|                 2.5|        0.0|                  345|                 5.75|\n|       2| 2022-10-01 00:04:26|  2022-10-01 00:29:48|            1.0|         8.48|       1.0|                 N|         162|          49|           1|       27.5|  0.5|    0.5|      7.57|        6.55|                  0.3|       45.42|                 2.5|        0.0|                 1522|   25.366666666666667|\n|       2| 2022-10-01 00:34:45|  2022-10-01 01:00:05|            1.0|         7.59|       1.0|                 N|         230|          65|           1|       25.5|  0.5|    0.5|      8.79|         0.0|                  0.3|       38.09|                 2.5|        0.0|                 1520|   25.333333333333332|\n|       2| 2022-10-01 00:26:29|  2022-10-01 00:37:01|            2.0|         1.64|       1.0|                 N|         234|         170|           1|        9.0|  0.5|    0.5|      2.56|         0.0|                  0.3|       15.36|                 2.5|        0.0|                  632|   10.533333333333333|\n|       2| 2022-10-01 00:09:26|  2022-10-01 00:18:08|            1.0|         1.27|       1.0|                 N|         163|         170|           1|        7.5|  0.5|    0.5|      3.39|         0.0|                  0.3|       14.69|                 2.5|        0.0|                  522|                  8.7|\n|       2| 2022-10-01 00:18:51|  2022-10-01 00:27:07|            1.0|         1.56|       1.0|                 N|          48|          68|           2|        7.5|  0.5|    0.5|       0.0|         0.0|                  0.3|        11.3|                 2.5|        0.0|                  496|    8.266666666666667|\n|       2| 2022-10-01 00:39:35|  2022-10-01 01:22:22|            1.0|        34.54|       4.0|                 N|         229|         265|           1|       64.5|  0.5|    0.5|       1.0|        6.55|                  0.3|       75.85|                 2.5|        0.0|                 2567|    42.78333333333333|\n|       2| 2022-10-01 00:49:22|  2022-10-01 00:54:04|            1.0|         0.89|       1.0|                 N|          48|          68|           2|        5.5|  0.5|    0.5|       0.0|         0.0|                  0.3|         9.3|                 2.5|        0.0|                  282|                  4.7|\n+--------+--------------------+---------------------+---------------+-------------+----------+------------------+------------+------------+------------+-----------+-----+-------+----------+------------+---------------------+------------+--------------------+-----------+---------------------+---------------------+\nonly showing top 20 rows\n\nNumber of rows in the cleaned DataFrame: 37036192\nCleaned data written to wasbs://nycyellowtaxidata-raw@shilsdemostorage.blob.core.windows.net/nycyellowtaxidata-cleaned/2022\n"
     ]
    }
   ],
   "source": [
    "from pyspark.sql import SparkSession\n",
    "from pyspark.sql.functions import col, unix_timestamp\n",
    "\n",
    "class DataCleaner:\n",
    "    def __init__(self, app_name=\"DataCleanerApp\"):\n",
    "        # Initialize SparkSession\n",
    "        self.spark = SparkSession.builder \\\n",
    "            .appName(app_name) \\\n",
    "            .getOrCreate()\n",
    "\n",
    "    def set_azure_conf(self, container_name, storage_account_name, sas_token):\n",
    "        # Set Azure Blob Storage SAS token configuration\n",
    "        conf_key = f\"fs.azure.sas.{container_name}.{storage_account_name}.blob.core.windows.net\"\n",
    "        self.spark.conf.set(conf_key, sas_token)\n",
    "\n",
    "    \n",
    "    def clean_data(self):\n",
    "        storage_account_name = \"shilsdemostorage\"\n",
    "        container_name = \"nycyellowtaxidata-raw\"\n",
    "        folder_path = \"nycyellowtaxidata-raw/2022\"\n",
    "        full_path = f\"wasbs://{container_name}@{storage_account_name}.blob.core.windows.net/{folder_path}/*.parquet\"\n",
    "        df = self.spark.read.parquet(full_path)\n",
    "\n",
    "        # Filter rows with positive passenger_count and positive trip_distance\n",
    "        df = df.filter((col(\"passenger_count\") > 0) & (col(\"trip_distance\") > 0))\n",
    "        \n",
    "        # Remove rows with negative tip_amount\n",
    "        df = df.filter(col(\"tip_amount\") >= 0)\n",
    "        \n",
    "        # Drop duplicate rows based on all columns\n",
    "        df = df.dropDuplicates()\n",
    "    \n",
    "        # Calculate the trip duration in seconds\n",
    "        df = df.withColumn(\n",
    "            \"trip_duration_seconds\",\n",
    "            unix_timestamp(col(\"tpep_dropoff_datetime\")) - unix_timestamp(col(\"tpep_pickup_datetime\"))\n",
    "        )\n",
    "        \n",
    "        # Optionally, calculate the trip duration in minutes\n",
    "        df = df.withColumn(\n",
    "            \"trip_duration_minutes\",\n",
    "            col(\"trip_duration_seconds\") / 60\n",
    "        )\n",
    "        \n",
    "        # Filter out rows with non-positive trip durations\n",
    "        df = df.filter(col(\"trip_duration_seconds\") > 0)\n",
    "    \n",
    "        # Display the schema and a few rows of the DataFrame\n",
    "        df.printSchema()\n",
    "        df.show()\n",
    "        \n",
    "        # Count the number of rows in the cleaned DataFrame\n",
    "        row_count = df.count()\n",
    "        print(f\"Number of rows in the cleaned DataFrame: {row_count}\")\n",
    "    \n",
    "        # Write the cleaned DataFrame back to Azure Blob Storage. Define your output folder here\n",
    "        output_folder = \"nycyellowtaxidata-cleaned/2022\"  \n",
    "        # Define the full path for the cleaned data\n",
    "        output_path = f\"wasbs://{container_name}@{storage_account_name}.blob.core.windows.net/{output_folder}\"\n",
    "        \n",
    "        # Write the cleaned DataFrame to the specified path as Parquet\n",
    "        df.write.mode(\"overwrite\").parquet(output_path)\n",
    "        \n",
    "        print(f\"Cleaned data written to {output_path}\")\n",
    "        return df\n",
    "\n",
    "# Main class calling the DataCleaner class\n",
    "if __name__ == \"__main__\":\n",
    "    # Azure Blob Storage configuration\n",
    "    storage_account_name = \"shilsdemostorage\"\n",
    "    sas_token = \"sv=2022-11-02&ss=bfqt&srt=sco&sp=rwdlacupiytfx&se=2024-06-15T07:52:01Z&st=2024-06-14T23:52:01Z&spr=https&sig=W7cBUc1L3%2FC9XCs%2BEug%2FTontPX%2F3hhQiFJpjmhfEe2o%3D\"\n",
    "    \n",
    "    # folder_path = \"nycyellowtaxidata-raw/2022\"\n",
    "    # full_path = f\"wasbs://{container_name}@{storage_account_name}.blob.core.windows.net/{folder_path}/*.parquet\"\n",
    "    \n",
    "    # Initialize the DataCleaner class\n",
    "    cleaner = DataCleaner()\n",
    "\n",
    "    # Set Azure configuration\n",
    "    cleaner.set_azure_conf(container_name, storage_account_name, sas_token)\n",
    "\n",
    "    # Clean the DataFrame and show results\n",
    "    cleaner.clean_data()\n"
   ]
  }
 ],
 "metadata": {
  "application/vnd.databricks.v1+notebook": {
   "dashboards": [],
   "environmentMetadata": null,
   "language": "python",
   "notebookMetadata": {
    "pythonIndentUnit": 4
   },
   "notebookName": "NYC_taxi_trip_data_clean_&_storage",
   "widgets": {}
  }
 },
 "nbformat": 4,
 "nbformat_minor": 0
}
